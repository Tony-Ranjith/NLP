{
  "nbformat": 4,
  "nbformat_minor": 0,
  "metadata": {
    "colab": {
      "provenance": []
    },
    "kernelspec": {
      "name": "python3",
      "display_name": "Python 3"
    },
    "language_info": {
      "name": "python"
    }
  },
  "cells": [
    {
      "cell_type": "markdown",
      "source": [
        "# Text Classification\n",
        "Text classification is the process of categorizing text into predefined labels.\n",
        "### Examples:\n",
        "\n",
        "Sentiment Analysis (Positive, Negative, Neutral)\n",
        "\n",
        "Spam Detection (Spam, Not Spam)\n",
        "\n",
        "Fake News Detection (Real, Fake)"
      ],
      "metadata": {
        "id": "4CEHvnDdWjqQ"
      }
    },
    {
      "cell_type": "markdown",
      "source": [
        "# Approaches for Text Classification\n",
        "### 1 Traditional Machine Learning\n",
        "\n",
        "Uses algorithms like Naive Bayes, SVM, Logistic Regression\n",
        "\n",
        "Requires TF-IDF or Bag-of-Words representation\n",
        "\n",
        "###2 Deep Learning\n",
        "\n",
        "Uses LSTMs, CNNs, and Transformers (BERT, GPT)\n",
        "\n",
        "Learns patterns automatically from raw text"
      ],
      "metadata": {
        "id": "XRdvpO4yWydS"
      }
    },
    {
      "cell_type": "markdown",
      "source": [
        "# Implementing using Traditional Approach (Nive bayes)"
      ],
      "metadata": {
        "id": "de0jKO6UXJI1"
      }
    },
    {
      "cell_type": "markdown",
      "source": [
        "### Load the dataset\n"
      ],
      "metadata": {
        "id": "F5ot1ImBY_8V"
      }
    },
    {
      "cell_type": "code",
      "execution_count": 1,
      "metadata": {
        "colab": {
          "base_uri": "https://localhost:8080/"
        },
        "id": "zRVMaCH0We8u",
        "outputId": "67614b7b-f0d1-4a1f-aff7-57f4329f3790"
      },
      "outputs": [
        {
          "output_type": "stream",
          "name": "stderr",
          "text": [
            "[nltk_data] Downloading package movie_reviews to /root/nltk_data...\n",
            "[nltk_data]   Unzipping corpora/movie_reviews.zip.\n"
          ]
        },
        {
          "output_type": "execute_result",
          "data": {
            "text/plain": [
              "True"
            ]
          },
          "metadata": {},
          "execution_count": 1
        }
      ],
      "source": [
        "import nltk\n",
        "from nltk.corpus import movie_reviews\n",
        "nltk.download('movie_reviews')"
      ]
    },
    {
      "cell_type": "code",
      "source": [
        "documents=[\n",
        "    (list(movie_reviews.words(fileid)),category)\n",
        "    for category in movie_reviews.categories()\n",
        "    for fileid in movie_reviews.fileids(category)\n",
        "]"
      ],
      "metadata": {
        "id": "1iooXXTPY-5a"
      },
      "execution_count": 2,
      "outputs": []
    },
    {
      "cell_type": "code",
      "source": [
        "# check the data size\n",
        "print('total reviews :',len(documents))\n",
        "print('example review :',''.join(documents[0][0][:50]))\n",
        "print('category :',documents[0][1])"
      ],
      "metadata": {
        "colab": {
          "base_uri": "https://localhost:8080/"
        },
        "id": "2wwRBUS5Zq5S",
        "outputId": "d3fe0dd1-6f7b-43f7-c5a2-6e39e7358288"
      },
      "execution_count": 5,
      "outputs": [
        {
          "output_type": "stream",
          "name": "stdout",
          "text": [
            "total reviews : 2000\n",
            "example review : plot:twoteencouplesgotoachurchparty,drinkandthendrive.theygetintoanaccident.oneoftheguysdies,buthisgirlfriendcontinuestoseehiminherlife,andhasnightmares.what'sthedeal?watch\n",
            "category : neg\n"
          ]
        }
      ]
    },
    {
      "cell_type": "markdown",
      "source": [
        "### Preprocess the data"
      ],
      "metadata": {
        "id": "810_IAfva6kg"
      }
    },
    {
      "cell_type": "code",
      "source": [
        "import random\n",
        "import string\n",
        "from nltk.corpus import stopwords\n",
        "\n",
        "#shuffle the data to avoid order bias\n",
        "random.shuffle(documents)\n",
        "\n",
        "#download stopwords\n",
        "nltk.download('stopwords')\n",
        "\n",
        "def preprocess_text(words):\n",
        "  stop_words=set(stopwords.words('english'))\n",
        "  words=[w.lower() for w in words if w.isalpha() and w.lower() not in stop_words]\n",
        "  return words\n",
        "\n",
        "# apply preprocessing\n",
        "documents=[(preprocess_text(words),category) for words, category in documents]\n",
        "\n",
        "#check example\n",
        "print('processed data example :', documents[0][0][:20])\n"
      ],
      "metadata": {
        "colab": {
          "base_uri": "https://localhost:8080/"
        },
        "id": "pjCIQdv8aHKf",
        "outputId": "8417b659-35de-4fcc-afc2-a13517afe3fc"
      },
      "execution_count": 7,
      "outputs": [
        {
          "output_type": "stream",
          "name": "stderr",
          "text": [
            "[nltk_data] Downloading package stopwords to /root/nltk_data...\n",
            "[nltk_data]   Unzipping corpora/stopwords.zip.\n"
          ]
        },
        {
          "output_type": "stream",
          "name": "stdout",
          "text": [
            "processed data example : ['kind', 'person', 'goes', 'see', 'movies', 'long', 'overpriced', 'theatre', 'popcorn', 'butter', 'optional', 'movie', 'indeed', 'got', 'either', 'one', 'unimaginative', 'rip', 'offs', 'recent']\n"
          ]
        }
      ]
    },
    {
      "cell_type": "markdown",
      "source": [
        "### Convert Text to Numerical form\n",
        "\n",
        "Since ML models work with numbers, we use TF-IDF (Term Frequency-Inverse Document Frequency)."
      ],
      "metadata": {
        "id": "Ys4s7mwbdLk4"
      }
    },
    {
      "cell_type": "code",
      "source": [
        "from sklearn.feature_extraction.text import TfidfVectorizer\n",
        "\n",
        "# convert words back to sentences\n",
        "texts = [' '.join(words) for words, label in documents]\n",
        "labels= [label for  words , label in documents]\n",
        "\n",
        "#convert labels to binary 1= positive and 0 = negative\n",
        "labels =[1 if label == 'pos' else 0 for label in labels]\n",
        "\n",
        "#TF-IDF Vectorization\n",
        "vectorizer=TfidfVectorizer(max_features=5000)\n",
        "\n",
        "x=vectorizer.fit_transform(texts)\n",
        "\n",
        "print('TF-IDF Matrix Shape:', x.shape)"
      ],
      "metadata": {
        "colab": {
          "base_uri": "https://localhost:8080/"
        },
        "id": "THa5Ial9c844",
        "outputId": "bf888ca2-5b5a-4658-eb90-a78dd06fdef1"
      },
      "execution_count": 8,
      "outputs": [
        {
          "output_type": "stream",
          "name": "stdout",
          "text": [
            "TF-IDF Matrix Shape: (2000, 5000)\n"
          ]
        }
      ]
    },
    {
      "cell_type": "markdown",
      "source": [
        "###Train a Machine Learning Model (Naive Bayes)"
      ],
      "metadata": {
        "id": "8M48eJJBgBTO"
      }
    },
    {
      "cell_type": "code",
      "source": [
        "from sklearn.model_selection import train_test_split\n",
        "from sklearn.naive_bayes import MultinomialNB\n",
        "from sklearn.metrics import accuracy_score\n",
        "\n",
        "# Split data\n",
        "x_train, x_test, y_train, y_test = train_test_split(x, labels, test_size=0.2, random_state=42)\n",
        "\n",
        "# Train model\n",
        "model = MultinomialNB()\n",
        "model.fit(x_train, y_train)\n",
        "\n",
        "# Predict\n",
        "y_pred = model.predict(x_test)\n",
        "\n",
        "# Evaluate\n",
        "accuracy = accuracy_score(y_test, y_pred)\n",
        "print(f\"Accuracy: {accuracy:.2f}\")\n"
      ],
      "metadata": {
        "colab": {
          "base_uri": "https://localhost:8080/"
        },
        "id": "QP8_mEgZf5cy",
        "outputId": "003bfe3c-103a-4101-dc09-7f68093a9333"
      },
      "execution_count": 9,
      "outputs": [
        {
          "output_type": "stream",
          "name": "stdout",
          "text": [
            "Accuracy: 0.80\n"
          ]
        }
      ]
    },
    {
      "cell_type": "markdown",
      "source": [
        "###Test with Custom Sentences"
      ],
      "metadata": {
        "id": "ENFdHSOPg97x"
      }
    },
    {
      "cell_type": "code",
      "source": [
        "def predict_sentiment(review):\n",
        "  review=preprocess_text(review.split()) # Preprocess\n",
        "  review=[' '.join(review)] # Convert to string\n",
        "  review_vectorized= vectorizer.transform(review)\n",
        "  prediction=model.predict(review_vectorized)\n",
        "  return \"positive\" if prediction == 1 else 'negative'"
      ],
      "metadata": {
        "id": "0AiWbMBig1oJ"
      },
      "execution_count": 11,
      "outputs": []
    },
    {
      "cell_type": "code",
      "source": [
        "predict_sentiment('movie is good and the acting was amazing')"
      ],
      "metadata": {
        "colab": {
          "base_uri": "https://localhost:8080/",
          "height": 35
        },
        "id": "76RlKzEoh1Kf",
        "outputId": "8e523247-af4b-4112-8809-bafa625c4f72"
      },
      "execution_count": 13,
      "outputs": [
        {
          "output_type": "execute_result",
          "data": {
            "text/plain": [
              "'positive'"
            ],
            "application/vnd.google.colaboratory.intrinsic+json": {
              "type": "string"
            }
          },
          "metadata": {},
          "execution_count": 13
        }
      ]
    },
    {
      "cell_type": "code",
      "source": [
        "predict_sentiment('the movie was boring..!')"
      ],
      "metadata": {
        "colab": {
          "base_uri": "https://localhost:8080/",
          "height": 35
        },
        "id": "AvtSLIaviJNx",
        "outputId": "3f271b39-7704-48ed-afd8-da95a9ff318b"
      },
      "execution_count": 14,
      "outputs": [
        {
          "output_type": "execute_result",
          "data": {
            "text/plain": [
              "'negative'"
            ],
            "application/vnd.google.colaboratory.intrinsic+json": {
              "type": "string"
            }
          },
          "metadata": {},
          "execution_count": 14
        }
      ]
    },
    {
      "cell_type": "code",
      "source": [
        "predict_sentiment('this movie is pretty good but acting was horrible but boring one')"
      ],
      "metadata": {
        "colab": {
          "base_uri": "https://localhost:8080/",
          "height": 35
        },
        "id": "uIXj3xzQicZ7",
        "outputId": "2315b038-f679-46db-f1fe-4d6c9d28e4b3"
      },
      "execution_count": 15,
      "outputs": [
        {
          "output_type": "execute_result",
          "data": {
            "text/plain": [
              "'negative'"
            ],
            "application/vnd.google.colaboratory.intrinsic+json": {
              "type": "string"
            }
          },
          "metadata": {},
          "execution_count": 15
        }
      ]
    },
    {
      "cell_type": "code",
      "source": [],
      "metadata": {
        "id": "ROT_uC6liqji"
      },
      "execution_count": null,
      "outputs": []
    }
  ]
}