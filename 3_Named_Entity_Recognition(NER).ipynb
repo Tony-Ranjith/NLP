{
  "nbformat": 4,
  "nbformat_minor": 0,
  "metadata": {
    "colab": {
      "provenance": []
    },
    "kernelspec": {
      "name": "python3",
      "display_name": "Python 3"
    },
    "language_info": {
      "name": "python"
    }
  },
  "cells": [
    {
      "cell_type": "markdown",
      "source": [
        "# Named Entity Recognition (NER)\n",
        "NER identifies and categorizes real-world entities (e.g., names, locations, dates) in text.\n",
        "\n",
        "### Example:\n",
        " Input: \"Elon Musk founded Tesla in California in 2003.\"\n",
        " NER Output:\n",
        "\n",
        "Person → Elon Musk\n",
        "\n",
        "Organization → Tesla\n",
        "\n",
        "Location → California\n",
        "\n",
        "Date → 2003"
      ],
      "metadata": {
        "id": "Ox2tr1txSVAn"
      }
    },
    {
      "cell_type": "code",
      "source": [
        "import spacy\n",
        "\n",
        "# Load pretrained model\n",
        "nlp = spacy.load(\"en_core_web_sm\")\n",
        "\n",
        "# Sample text\n",
        "text = \"Elon Musk founded Tesla in California in 2003.\"\n",
        "\n",
        "# Process text\n",
        "doc = nlp(text)\n",
        "\n",
        "# Extract entities\n",
        "for ent in doc.ents:\n",
        "    print(ent.text, \"->\", ent.label_)"
      ],
      "metadata": {
        "colab": {
          "base_uri": "https://localhost:8080/"
        },
        "id": "UWynuxaySzjK",
        "outputId": "f8c4a78f-08b2-4626-d878-43dda600ceac"
      },
      "execution_count": 2,
      "outputs": [
        {
          "output_type": "stream",
          "name": "stdout",
          "text": [
            "Elon Musk -> PERSON\n",
            "Tesla -> ORG\n",
            "California -> GPE\n",
            "2003 -> DATE\n"
          ]
        }
      ]
    },
    {
      "cell_type": "code",
      "source": [],
      "metadata": {
        "id": "UjsbMWNDS7bN"
      },
      "execution_count": null,
      "outputs": []
    }
  ]
}